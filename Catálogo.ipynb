{
 "cells": [
  {
   "cell_type": "markdown",
   "metadata": {
    "kernel": "SoS"
   },
   "source": [
    "# Procesamiento y análisis de imágenes digitales\n",
    "\n",
    "En el presente Notebook, se presenta el código utilizado en los temas relacionados con el curso durante el segundo semestre 2020, en forma de catálogo grupal\n",
    "\n",
    "### Integrantes\n",
    "\n",
    "* **Jung Bak - 2016193299**\n",
    "* **Dagoberto Rojas - 2015127575**\n",
    "* **Daniel Rojas - 2016089821**\n",
    "\n",
    "## Avance 1\n",
    "\n",
    "1. [**GNU Octave e Imágenes**](GNU_Octave_e_Imagenes/GNU_Octave_e_Imagenes.ipynb)\n",
    "1. [**SVD e Imágenes**](SVD_e_Imagenes/SVD_e_Imagenes.ipynb)\n",
    "1. [**Operaciones geométricas**](Operaciones_Geometricas_Interpolacion/Operaciones_Geometricas_Interpolacion_Octave.ipynb)\n",
    "1. [**Transformaciones Escala de Grises**](Transformacion_en_escala_de_grises/Transformaciones_Escala_de_Grises.ipynb)"
   ]
  }
 ],
 "metadata": {
  "kernelspec": {
   "display_name": "SoS",
   "language": "sos",
   "name": "sos"
  },
  "language_info": {
   "codemirror_mode": "sos",
   "file_extension": ".sos",
   "mimetype": "text/x-sos",
   "name": "sos",
   "nbconvert_exporter": "sos_notebook.converter.SoS_Exporter",
   "pygments_lexer": "sos"
  },
  "sos": {
   "kernels": [],
   "panel": {
    "displayed": true,
    "height": 0
   },
   "version": "0.21.19"
  }
 },
 "nbformat": 4,
 "nbformat_minor": 4
}
