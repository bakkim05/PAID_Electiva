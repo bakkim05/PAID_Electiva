{
 "cells": [
  {
   "attachments": {},
   "cell_type": "markdown",
   "metadata": {
    "kernel": "SoS"
   },
   "source": [
    "# Vecindarios y convolución\n",
    "\n",
    "Procesamiento de imágenes por vecindario significa modificar el valor de un pixel, utilizando la información de los pixeles vecinos.\n",
    "\n",
    "$\\Leftarrow$ añadir figura de la matriz.\n",
    "\n",
    "LAs operaciones que se realizan para un procesamiento por vecindario, normalmente siguen los siguientes pasos: Sea $A \\in {\\rm I\\!R}^{m\\times n}$ una imgen a escala de grises.\n",
    "\n",
    "1.\n",
    "1. Desarrollar una operación que involucra solo los pixeles del vecindario: $A_{x-1, y}, A_{x, y-1}, ...$\n",
    "1. Aplicar el resultado de la operación del pixel en la misma coordenada $(x,y)$ de la imagen de salida. $B_{x,y}$\n",
    "\n",
    "## Convolución en 1 dimensión para venctores de dimensión finira:\n",
    "\n",
    "Sea $X = [x_1, x_2, ..., x_n]$ y sesa $y = [y_1, y_2, ... , y_n]$ \n",
    "Entonces la convolución de X y Y es el vector Z de tamaño $m+n-1$, definido:\n",
    "$$\n",
    "Z(i) = (x\\star y)(i) = \\sum _j x(j)\\cdot y(i-j+1)\n",
    "$$\n",
    "donde $j \\in {max(1, i+1-n), ... ,min(i, n)}$"
   ]
  },
  {
   "cell_type": "code",
   "execution_count": null,
   "metadata": {
    "kernel": "Octave"
   },
   "outputs": [],
   "source": []
  }
 ],
 "metadata": {
  "kernelspec": {
   "display_name": "SoS",
   "language": "sos",
   "name": "sos"
  },
  "language_info": {
   "codemirror_mode": "sos",
   "file_extension": ".sos",
   "mimetype": "text/x-sos",
   "name": "sos",
   "nbconvert_exporter": "sos_notebook.converter.SoS_Exporter",
   "pygments_lexer": "sos"
  },
  "sos": {
   "kernels": [
    [
     "Octave",
     "octave",
     "octave",
     "",
     ""
    ]
   ],
   "panel": {
    "displayed": false,
    "height": 0
   },
   "version": "0.21.19"
  }
 },
 "nbformat": 4,
 "nbformat_minor": 4
}
