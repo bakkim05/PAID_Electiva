{
 "cells": [
  {
   "cell_type": "code",
   "execution_count": 6,
   "metadata": {},
   "outputs": [
    {
     "name": "stdout",
     "output_type": "stream",
     "text": [
      "t1 =  0.96556\n"
     ]
    }
   ],
   "source": [
    "%Ejemplo de Convolucion en 1D\n",
    "\n",
    "x = [-2 1 2]; m = length(x);\n",
    "y = [-4 3 4]; n = length(y);\n",
    "\n",
    "z = zeros(m+n-1, 1); %Vector de convlucion\n",
    "\n",
    "\n",
    "for i=1 : m+n-1 %Recorrer cada una de las entradas de Z\n",
    "    for j=max([1 i+1-n]) : min([i m]) %Realizar la suma de la formula de convolucion\n",
    "        z(i) = z(i) + x(j) * y(i-j+1);\n",
    "    end\n",
    "end\n",
    "\n",
    "display(z);"
   ]
  },
  {
   "cell_type": "code",
   "execution_count": 8,
   "metadata": {},
   "outputs": [
    {
     "name": "stdout",
     "output_type": "stream",
     "text": [
      "t1 =  0.49755\n",
      "t2 =  0.016897\n"
     ]
    }
   ],
   "source": [
    "%Ejemplo de Convolucion en 1D\n",
    "\n",
    "\n",
    "x = rand(250,1); m = length(x);\n",
    "y = rand(100,1); n = length(y);\n",
    "\n",
    "z = zeros(m+n-1, 1); %Vector de convlucion\n",
    "tic\n",
    "for i=1 : m+n-1 %Recorrer cada una de las entradas de Z\n",
    "    for j=max([1 i+1-n]) : min([i m]) %Realizar la suma de la formula de convolucion\n",
    "        z(i) = z(i) + x(j) * y(i-j+1);\n",
    "    end\n",
    "end\n",
    "t1 = toc\n",
    "\n",
    "tic\n",
    "z2 = conv(x,y);\n",
    "t2 = toc"
   ]
  },
  {
   "cell_type": "code",
   "execution_count": null,
   "metadata": {},
   "outputs": [],
   "source": []
  }
 ],
 "metadata": {
  "kernelspec": {
   "display_name": "Octave",
   "language": "octave",
   "name": "octave"
  },
  "language_info": {
   "file_extension": ".m",
   "help_links": [
    {
     "text": "GNU Octave",
     "url": "https://www.gnu.org/software/octave/support.html"
    },
    {
     "text": "Octave Kernel",
     "url": "https://github.com/Calysto/octave_kernel"
    },
    {
     "text": "MetaKernel Magics",
     "url": "https://metakernel.readthedocs.io/en/latest/source/README.html"
    }
   ],
   "mimetype": "text/x-octave",
   "name": "octave",
   "version": "5.2.0"
  }
 },
 "nbformat": 4,
 "nbformat_minor": 4
}
