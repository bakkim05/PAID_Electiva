{
 "cells": [
  {
   "cell_type": "markdown",
   "metadata": {
    "kernel": "SoS"
   },
   "source": [
    "# Vecindarios y convolución\n",
    "\n",
    "Procesamiento de imágenes por vecindario significa modificar el valor de un pixel, utilizando la información de los pixeles vecinos.\n",
    "$$\n",
    "\\begin{array}{|c|c|c|} \n",
    "\\hline\n",
    "    A_{x-1,y-1} & A_{x,y-1} & A_{x+1,y-1}\\\\\n",
    "\\hline  \n",
    "    A_{x-1,y}   & \\color{red}{ A_{x,y}}   & A_{x+1,y}\\\\ \n",
    "\\hline \n",
    "    A_{x-1,y+1} & A_{x,y+1} & A_{x+1,y+1}\\\\ \n",
    "\\hline \n",
    "\\end{array} \n",
    "$$\n",
    "LAs operaciones que se realizan para un procesamiento por vecindario, normalmente siguen los siguientes pasos: Sea $A \\in {\\rm I\\!R}^{m\\times n}$ una imgen a escala de grises.\n",
    "\n",
    "1. Definir un pixel de la imagen: $A_{x,y}$\n",
    "1. Desarrollar una operación que involucra solo los pixeles del vecindario: $\\color{red}{A_{x-1, y}, A_{x, y-1}, ...}$\n",
    "1. Aplicar el resultado de la operación del pixel en la misma coordenada $(x,y)$ de la imagen de salida. $B_{x,y}$\n",
    "1. Repetir el proceso con cada uno de los pixeles.\n",
    "\n",
    "*Nota:* En esta parte del curso, se estudiarán un conjunto de mpetodos relacionados con el procesamiento por vecindarios, que involucra las operaciones de **convolución**\n",
    "\n",
    "## Convolución en 1 dimensión para vectores de dimensión finita:\n",
    "\n",
    "Sea $X = [x_1, x_2, ..., x_n]$ y sesa $y = [y_1, y_2, ... , y_n]$\n",
    "\n",
    "Entonces la convolución de $X$ y $Y$ es el vector $Z$ de tamaño $m+n-1$, definido:\n",
    "$$\n",
    "Z(i) = (x\\star y)(i) = \\sum _j x(j)\\cdot y(i-j+1)\n",
    "$$\n",
    "donde $j \\in \\{\\max(1, i+1-n), ... ,\\min(i, n)\\}$\n",
    "\n",
    "**Ejercicio:** Implementar la convolución entre\n",
    "$$\n",
    "\\begin{array}{cc} \n",
    "X = \\left(\n",
    "    \\begin{array}{c} \n",
    "        -2\\\\1\\\\2\n",
    "    \\end{array} \n",
    "\\right)\n",
    "& \n",
    "Y = \\left(\n",
    "    \\begin{array}{c} \n",
    "        -4\\\\3\\\\4\n",
    "    \\end{array} \n",
    "\\right) \n",
    "\\end{array} \n",
    "$$"
   ]
  },
  {
   "cell_type": "code",
   "execution_count": 3,
   "metadata": {
    "kernel": "Octave"
   },
   "outputs": [
    {
     "name": "stdout",
     "output_type": "stream",
     "text": [
      "    8  -10  -13   10    8\n"
     ]
    }
   ],
   "source": [
    "% Ejemplo de convolución en una dimensión\n",
    "\n",
    "x = [-2 1 2]; m = length(x);\n",
    "y = [-4 3 4]; n = length(y);\n",
    "\n",
    "z = zeros(m+n-1, 1); %Vector de convolución\n",
    "\n",
    "\n",
    "for i=1 : m+n-1 %Recorrer cada una de las entradas de Z\n",
    "    for j=max([1 i+1-n]) : min([i m]) %Realizar la suma de la formula de convolucion\n",
    "        z(i) = z(i) + x(j) * y(i-j+1);\n",
    "    end\n",
    "end\n",
    "\n",
    "disp(z');"
   ]
  },
  {
   "cell_type": "code",
   "execution_count": 4,
   "metadata": {
    "kernel": "Octave"
   },
   "outputs": [
    {
     "name": "stdout",
     "output_type": "stream",
     "text": [
      "t1 =  0.54861\n",
      "t2 =  0.088065\n"
     ]
    }
   ],
   "source": [
    "%Ejemplo de Convolucion en 1D\n",
    "\n",
    "x = rand(250,1); m = length(x);\n",
    "y = rand(100,1); n = length(y);\n",
    "\n",
    "z = zeros(m+n-1, 1); %Vector de convlucion\n",
    "tic\n",
    "for i=1 : m+n-1 %Recorrer cada una de las entradas de Z\n",
    "    for j=max([1 i+1-n]) : min([i m]) %Realizar la suma de la formula de convolucion\n",
    "        z(i) = z(i) + x(j) * y(i-j+1);\n",
    "    end\n",
    "end\n",
    "t1 = toc\n",
    "\n",
    "tic\n",
    "z2 = conv(x,y);\n",
    "t2 = toc"
   ]
  },
  {
   "cell_type": "markdown",
   "metadata": {
    "kernel": "Octave"
   },
   "source": [
    "## Convolución de 2 dimensiones (para matrices) de dimensión finita\n",
    "\n",
    "Sea $A \\in {\\rm I\\!R}^{m_1 \\times n_1}$ y $B \\in {\\rm I\\!R}^{m_2 \\times n_2}$. La convolución de $A$ y $B$ esla matriz $C \\in {\\rm I\\!R}^{m_1 + m_2 - 1 \\times n_1 + n_2 +1}$, definida por:\n",
    "\n",
    "$$\n",
    "    C(j,k) = (A \\star B)(j,k) = \\sum _ p \\sum _q A(p,q)\\cdot B(j-p+1, k-q+1)\n",
    "$$\n",
    "donde $p$ y $q$ pertenecen a:\n",
    "$$\n",
    "\\begin{array}{c}\n",
    "p \\in \\{\\max(1, j-m_2+1), ..., \\min(j, m_1) \\}\\\\\n",
    "p \\in \\{\\max(1, k-n_2+1), ..., \\min(k, n_1) \\}\n",
    "\\end{array}\n",
    "$$\n",
    "\n",
    "**Tarea:** Implementar la convolución de:\n",
    "\n",
    "$$\n",
    "\\begin{array}{cc} \n",
    "A = \\left(\n",
    "    \\begin{array}{c} \n",
    "        1 & 0 & 1\\\\\n",
    "        4 & 3 & 1\\\\\n",
    "        -1& 0 & -2\n",
    "    \\end{array} \n",
    "\\right)\n",
    "& y &\n",
    "B = \\left(\n",
    "    \\begin{array}{c} \n",
    "        -1 &1 &2 &3\\\\\n",
    "        -4 &0 &1 &5\n",
    "    \\end{array} \n",
    "\\right) \n",
    "\\end{array} \n",
    "$$\n",
    "\n",
    "*Nota:* Durante lo que queda del curso, usaremos los comandos ya desarrolladosen Octave y Python, para calcular la convolución de 2 dimensiones.\n",
    "\n",
    "Python $\\rightarrow$ convolve2d (scipy)\n",
    "\n",
    "Octave $\\rightarrow$ conv2"
   ]
  },
  {
   "cell_type": "markdown",
   "metadata": {
    "kernel": "SoS"
   },
   "source": [
    "Enfatizar bordes de una imagen borrosa\n",
    "\n",
    "Tarea: Condiere la imagen \"animal.jpg\"\n",
    "1. Usando un filtro pasobajo, obtenga una imagen borrosa de la iamgen \"animal.jpg\"\n",
    "2. Usando la tecnica vista anteriormente, enfatice los bordes de dicah imagen. Seleccione un valor de alfa adecuado."
   ]
  }
 ],
 "metadata": {
  "kernelspec": {
   "display_name": "SoS",
   "language": "sos",
   "name": "sos"
  },
  "language_info": {
   "codemirror_mode": "sos",
   "file_extension": ".sos",
   "mimetype": "text/x-sos",
   "name": "sos",
   "nbconvert_exporter": "sos_notebook.converter.SoS_Exporter",
   "pygments_lexer": "sos"
  },
  "sos": {
   "kernels": [
    [
     "Octave",
     "octave",
     "octave",
     "",
     ""
    ],
    [
     "SoS",
     "sos",
     "",
     "",
     "sos"
    ]
   ],
   "panel": {
    "displayed": false,
    "height": 0
   },
   "version": "0.21.19"
  }
 },
 "nbformat": 4,
 "nbformat_minor": 4
}
