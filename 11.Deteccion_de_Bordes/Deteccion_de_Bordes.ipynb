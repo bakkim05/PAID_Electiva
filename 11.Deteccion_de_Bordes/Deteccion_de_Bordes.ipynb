{
 "cells": [
  {
   "cell_type": "markdown",
   "metadata": {
    "kernel": "Octave"
   },
   "source": [
    "Importar Paquetes"
   ]
  },
  {
   "cell_type": "code",
   "execution_count": 2,
   "metadata": {
    "kernel": "Octave"
   },
   "outputs": [],
   "source": [
    "pkg load image"
   ]
  },
  {
   "cell_type": "code",
   "execution_count": null,
   "metadata": {
    "kernel": "Python 3"
   },
   "outputs": [],
   "source": [
    "import numpy"
   ]
  },
  {
   "cell_type": "markdown",
   "metadata": {
    "kernel": "Octave"
   },
   "source": [
    "# Localización de Bordes:\n",
    "- La localización de bordes consiste en saber específicamente en que posición de la imagen se encuentra un borde en particular. Para esto utilizaremos la transformada de Hough.\n",
    "      \n",
    "# Transformada de Hough:\n",
    "- Es una transformada que permite detectar figuras que son expresadas matemáticamente como *rectas*, circunferencias y elipses.\n",
    "\n",
    "## Caso de Lineas Rectas\n",
    "- En este caso, las lineas rectas se pueden expresar con la ecuación `y = mx + b`\n",
    "- La idea principal es considerar las caracteristicas de una linea recta en términos de los parámetros (m,b)\n",
    "- El problema de `y = mx + b` es que no puede localizar lineas verticales, Para eso utilizaremos una representación polar \n",
    "    - `y = -(cos(a)/sen(a))x + p/sen(a)`\n",
    "    - donde p = distancia del origen a la recta y a = es el ángulo que hay entre p y el eje x\n",
    "    \n",
    "- Despejando p:\n",
    "    - `p = x*cos(a) + y*sen(a)`\n",
    "- Es posible asociar a cada recta un par (p,a) que es único para todo a que exista en [0, pi[, p existe en el dominio real\n",
    "\n",
    "NOTA: El espacio (p,a) se denomina el espacio de Hough para el conjunto de rectas en 2 dimensiones\n",
    "\n",
    "# Pasos de la Transformada de Hough\n",
    "Sea A una imagen binaria donde, A(x,y){ 1 : si esta en el borde , 0: si no esta en el borde }\n",
    "- Paso 1: Cargar una imagen I\n",
    "- Paso 2: Detectar los borde de I y guardarlo en una imagen A (binaria)\n",
    "- Paso 3: Para cada (x,y) que esté en el borde:\n",
    "- Paso 4: -Para todos los posibles a en `[o,pi[`\n",
    "- Paso 5: -- Calcular p para (x,y) y a\n",
    "- Paso 6: -- Incrementar la posición (p,a) en la matriz de acumulación\n",
    "- Paso 7: Buscar las posiciones con los mayores valores en el acumulador\n",
    "- Paso 8: Devolver la recta cuyos valores son los mayores en el acumulador\n",
    "\n"
   ]
  },
  {
   "cell_type": "code",
   "execution_count": 18,
   "metadata": {
    "kernel": "Octave"
   },
   "outputs": [
    {
     "name": "stderr",
     "output_type": "stream",
     "text": [
      "IOPub data rate exceeded.\n",
      "The notebook server will temporarily stop sending output\n",
      "to the client in order to avoid crashing it.\n",
      "To change this limit, set the config variable\n",
      "`--NotebookApp.iopub_data_rate_limit`.\n",
      "\n",
      "Current values:\n",
      "NotebookApp.iopub_data_rate_limit=1000000.0 (bytes/sec)\n",
      "NotebookApp.rate_limit_window=3.0 (secs)\n",
      "\n"
     ]
    },
    {
     "data": {
      "image/png": "[encoded data removed]",
      "text/plain": [
       "<IPython.core.display.Image object>"
      ]
     },
     "metadata": {},
     "output_type": "display_data"
    }
   ],
   "source": [
    "clc; clear; close all\n",
    "\n",
    "A = imread('images/linea1.jpg');\n",
    "\n",
    "%Convertir la imagen en binaria\n",
    "B = im2double(A);\n",
    "B(B<0.5) = 0;\n",
    "B(B>=0.5) = 1;\n",
    "# imshow(B)\n",
    "\n",
    "%Calcular la discretización de theta y rho\n",
    "%1. Discretización de Theta: Toma valores en [0,180] / [0,pi]\n",
    "h1 = 1;\n",
    "thetas = deg2rad(0:h1:180);\n",
    "\n",
    "%2. Discretización de rho: Toma valores en [-d,d], donde d = sqrt(m^2 + n^2), y [m,n]=size(B)\n",
    "[m,n] = size(B);\n",
    "d = sqrt(m^2+n^2);\n",
    "h2 =1;\n",
    "rhos=-d:h2:d;\n",
    "\n",
    "%Crear matriz de Acumulación\n",
    "Acumulador = zeros(length(thetas), length(rhos));\n",
    "\n",
    "%Llenar la matriz de acumulación\n",
    "[x_borde,y_borde] = find(B);\n",
    "\n",
    "for i =1: length(x_borde) %Recorrer los puntos del borde\n",
    "    for theta_indice=1:length(thetas)\n",
    "        theta = thetas(theta_indice)\n",
    "        rho = x_borde(i)*cos(theta) + y_borde(i)*cos(theta)\n",
    "        [~,rho_indice] = min(abs(rhos-rho));\n",
    "        Acumulador(theta_indice,rho_indice) += 1;\n",
    "    end\n",
    "end\n",
    "\n",
    "figure\n",
    "surface(thetas, rhos, Acumulador', 'EdgeColor', 'none')\n",
    "xlabel(\"rho\")\n",
    "ylabel('theta')"
   ]
  },
  {
   "cell_type": "code",
   "execution_count": null,
   "metadata": {
    "kernel": "Octave"
   },
   "outputs": [],
   "source": []
  }
 ],
 "metadata": {
  "kernelspec": {
   "display_name": "SoS",
   "language": "sos",
   "name": "sos"
  },
  "language_info": {
   "codemirror_mode": "sos",
   "file_extension": ".sos",
   "mimetype": "text/x-sos",
   "name": "sos",
   "nbconvert_exporter": "sos_notebook.converter.SoS_Exporter",
   "pygments_lexer": "sos"
  },
  "sos": {
   "kernels": [
    [
     "Octave",
     "octave",
     "octave",
     "",
     ""
    ],
    [
     "Python 3",
     "python3",
     "python3",
     "",
     ""
    ]
   ],
   "panel": {
    "displayed": true,
    "height": 0
   },
   "version": "0.21.19"
  }
 },
 "nbformat": 4,
 "nbformat_minor": 4
}
