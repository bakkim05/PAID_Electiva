{
 "cells": [
  {
   "cell_type": "markdown",
   "metadata": {
    "kernel": "Octave"
   },
   "source": [
    "Importar Paquetes"
   ]
  },
  {
   "cell_type": "code",
   "execution_count": 1,
   "metadata": {
    "kernel": "Octave"
   },
   "outputs": [],
   "source": [
    "pkg load image"
   ]
  },
  {
   "cell_type": "code",
   "execution_count": 1,
   "metadata": {
    "kernel": "Python 3"
   },
   "outputs": [],
   "source": [
    "import numpy as np\n",
    "import matplotlib.pyplot as plt\n",
    "from PIL import Image"
   ]
  },
  {
   "cell_type": "markdown",
   "metadata": {
    "kernel": "Octave"
   },
   "source": [
    "# Localización de Bordes:\n",
    "- La localización de bordes consiste en saber específicamente en que posición de la imagen se encuentra un borde en particular. Para esto utilizaremos la transformada de Hough.\n",
    "      \n",
    "# Transformada de Hough:\n",
    "- Es una transformada que permite detectar figuras que son expresadas matemáticamente como *rectas*, circunferencias y elipses.\n",
    "\n",
    "## Caso de Lineas Rectas\n",
    "- En este caso, las lineas rectas se pueden expresar con la ecuación `y = mx + b`\n",
    "- La idea principal es considerar las caracteristicas de una linea recta en términos de los parámetros (m,b)\n",
    "- El problema de `y = mx + b` es que no puede localizar lineas verticales, Para eso utilizaremos una representación polar \n",
    "    - `y = -(cos(a)/sen(a))x + p/sen(a)`\n",
    "    - donde p = distancia del origen a la recta y a = es el ángulo que hay entre p y el eje x\n",
    "    \n",
    "- Despejando p:\n",
    "    - `p = x*cos(a) + y*sen(a)`\n",
    "- Es posible asociar a cada recta un par (p,a) que es único para todo a que exista en [0, pi[, p existe en el dominio real\n",
    "\n",
    "NOTA: El espacio (p,a) se denomina el espacio de Hough para el conjunto de rectas en 2 dimensiones\n",
    "\n",
    "# Pasos de la Transformada de Hough\n",
    "Sea A una imagen binaria donde, A(x,y){ 1 : si esta en el borde , 0: si no esta en el borde }\n",
    "- Paso 1: Cargar una imagen I\n",
    "- Paso 2: Detectar los borde de I y guardarlo en una imagen A (binaria)\n",
    "- Paso 3: Para cada (x,y) que esté en el borde:\n",
    "- Paso 4: -Para todos los posibles a en `[o,pi[`\n",
    "- Paso 5: -- Calcular p para (x,y) y a\n",
    "- Paso 6: -- Incrementar la posición (p,a) en la matriz de acumulación\n",
    "- Paso 7: Buscar las posiciones con los mayores valores en el acumulador\n",
    "- Paso 8: Devolver la recta cuyos valores son los mayores en el acumulador\n",
    "\n"
   ]
  },
  {
   "cell_type": "code",
   "execution_count": 1,
   "metadata": {
    "kernel": "Octave"
   },
   "outputs": [
    {
     "name": "stdout",
     "output_type": "stream",
     "text": [
      "thetaMax =  1.5708\n",
      "rhoMax =  0.33577\n"
     ]
    }
   ],
   "source": [
    "clc; clear; close all\n",
    "\n",
    "A = imread('images/linea1.jpg');\n",
    "\n",
    "%Convertir la imagen en binaria\n",
    "B = im2double(A);\n",
    "B(B<0.5) = 0;\n",
    "B(B>=0.5) = 1;\n",
    "# imshow(B)\n",
    "\n",
    "%Calcular la discretización de theta y rho\n",
    "%1. Discretización de Theta: Toma valores en [0,180] / [0,pi]\n",
    "h1 = 1;\n",
    "thetas = deg2rad(0:h1:180);\n",
    "\n",
    "%2. Discretización de rho: Toma valores en [-d,d], donde d = sqrt(m^2 + n^2), y [m,n]=size(B)\n",
    "[m,n] = size(B);\n",
    "d = sqrt(m^2+n^2);\n",
    "h2 =1;\n",
    "rhos=-d:h2:d;\n",
    "\n",
    "%Crear matriz de Acumulación\n",
    "Acumulador = zeros(length(thetas), length(rhos));\n",
    "\n",
    "%Llenar la matriz de acumulación\n",
    "[x_borde,y_borde] = find(B);\n",
    "\n",
    "for i =1: length(x_borde) %Recorrer los puntos del borde\n",
    "    for theta_indice=1:length(thetas)\n",
    "        theta = thetas(theta_indice);\n",
    "        rho = x_borde(i)*cos(theta) + y_borde(i)*cos(theta);\n",
    "        [~,rho_indice] = min(abs(rhos-rho));\n",
    "        Acumulador(theta_indice,rho_indice) += 1;\n",
    "    end\n",
    "end\n",
    "\n",
    "% figure\n",
    "% surface(thetas, rhos, Acumulador', 'EdgeColor', 'none')\n",
    "% xlabel(\"rho\")\n",
    "% ylabel('theta')\n",
    "\n",
    "%Encontrar la posición donde el Acumulador alcanza el máximo\n",
    "[xp,yp] = find(Acumulador == max(max(Acumulador)));\n",
    "thetaMax = thetas(xp)\n",
    "rhoMax = rhos(yp)"
   ]
  },
  {
   "cell_type": "code",
   "execution_count": 3,
   "metadata": {
    "kernel": "Octave"
   },
   "outputs": [
    {
     "data": {
      "image/png": "[encoded data removed]",
      "text/plain": [
       "<IPython.core.display.Image object>"
      ]
     },
     "metadata": {},
     "output_type": "display_data"
    }
   ],
   "source": [
    "clc; clear; close all\n",
    "pkg load image\n",
    "A=imread('images/linea1.jpg');\n",
    "%Convertir la imagen en binaria\n",
    "B=im2double(A);\n",
    "B(B<0.5)=0; B(B>=0.5)=1;\n",
    "imshow(B)\n",
    "\n",
    "%Calcular la discretizacion de theta y rho\n",
    "%1. Theta: Tomar valores en [0,180] / [0, pi]\n",
    "h1=1;\n",
    "thetas=deg2rad(0:h1:180);\n",
    "%2. Rho: Toma valores en [-d,d], donde d=sqrt(m^2+n^2), y [m,n]=size(B)\n",
    "[m,n]=size(B);\n",
    "d=sqrt(m^2+n^2);\n",
    "h2=1;\n",
    "rhos=-d:h2:d;\n",
    "\n",
    "%Crear matriz de acumulacion\n",
    "Acumulador=zeros(length(thetas),length(rhos));\n",
    "\n",
    "%Llenar la matriz de acumulacion\n",
    "\n",
    "[x_b,y_b]=find(B);\n",
    "\n",
    "for i=1:length(x_b) %Recorrer los puntos del borde\n",
    "  for theta_ind=1:length(thetas)\n",
    "    theta=thetas(theta_ind);\n",
    "    rho=x_b(i)*cos(theta)+y_b(i)*sin(theta);\n",
    "    [~,rho_ind]=min(abs(rhos-rho));\n",
    "    Acumulador(theta_ind,rho_ind)+=1;\n",
    "  end  \n",
    "end\n",
    "\n",
    "%Mostrar graficamente el comportamiento del acumulador\n",
    "%figure\n",
    "%surface(thetas,rhos,Acumulador','EdgeColor','none')\n",
    "%xlabel('rho')\n",
    "%ylabel('theta')\n",
    "\n",
    "%Encontrar la posicion donde el Acumulador alcanza el maxima\n",
    "[xp,yp]=find(Acumulador==max(max(Acumulador)));\n",
    "\n",
    "\n",
    "%Graficar\n",
    "thetaMax = thetas(xp);\n",
    "rhoMax = rhos(yp);\n",
    "\n",
    "pendiente = -cos(thetaMax)/sin(thetaMax);\n",
    "interseccion = rhoMax/sin(thetaMax);\n",
    "\n",
    "%Para graficar una linea recta, se utiliza el comando line\n",
    "%Necesitamos un dos puntos\n",
    "%Punto1 (1,y1)\n",
    "y1 = pendiente*1 + interseccion;\n",
    "%Punto2 (xn,n)\n",
    "xn = (n-interseccion)/pendiente;\n",
    "\n",
    "%Graficar la linea rectangle\n",
    "line([y1 n], [1 xn], \"LineWidth\", 2)"
   ]
  },
  {
   "cell_type": "code",
   "execution_count": 3,
   "metadata": {
    "kernel": "Python 3"
   },
   "outputs": [
    {
     "data": {
      "image/png": "[encoded data removed]",
      "text/plain": [
       "<Figure size 432x288 with 1 Axes>"
      ]
     },
     "metadata": {
      "needs_background": "light"
     },
     "output_type": "display_data"
    }
   ],
   "source": [
    "A = Image.open(\"images/linea1.jpg\")\n",
    "A = np.asarray(A).astype(\"float64\")/255\n",
    "A = A[:,:,0]\n",
    "A[A>=0.5]=1\n",
    "A[A<0.5]=0\n",
    "plt.imshow(A, cmap=plt.cm.gray)\n",
    "\n",
    "h1 = 1\n",
    "thetas = np.deg2rad(np.arange(0,180+h1,h1))\n",
    "\n",
    "m,n = np.shape(A)\n",
    "d = np.sqrt(m**2 + n**2)\n",
    "h2 = 1\n",
    "rhos = np.arange(-d,d,h2)\n",
    "\n",
    "Acumulador = np.zeros((len(thetas),len(rhos)))\n",
    "x_borde,y_borde = np.nonzero(A)\n",
    "\n",
    "for i in range(len(x_borde)):\n",
    "    for theta_indice in range(len(thetas)):\n",
    "        theta = thetas[theta_indice]\n",
    "        rho = x_borde[i]*np.cos(theta) + y_borde[i]*np.sin(theta)\n",
    "        rho_indice = np.argmin(np.abs(rhos-rho))\n",
    "        Acumulador[theta_indice,rho_indice] += 1\n",
    "\n",
    "xp,yp = np.unravel_index(np.argmax(Acumulador,axis=None),Acumulador.shape)\n",
    "thetaMax = thetas[xp]\n",
    "rhoMax = rhos[yp]\n",
    "pendiente = -np.cos(thetaMax) / np.sin(thetaMax)\n",
    "interseccion = rhoMax / np.sin(thetaMax)\n",
    "\n",
    "y1 = pendiente*1 + interseccion\n",
    "xn = (n-interseccion)/pendiente\n",
    "\n",
    "plt.plot([y1, n],[1, xn])\n",
    "plt.xlim([0,n])\n",
    "plt.ylim([m,0])\n",
    "plt.show() "
   ]
  },
  {
   "cell_type": "code",
   "execution_count": 5,
   "metadata": {
    "kernel": "Octave"
   },
   "outputs": [
    {
     "data": {
      "image/png": "[encoded data removed]",
      "text/plain": [
       "<IPython.core.display.Image object>"
      ]
     },
     "metadata": {},
     "output_type": "display_data"
    }
   ],
   "source": [
    "clc; clear; close all\n",
    "pkg load image\n",
    "A=imread('images/linea3.jpg');\n",
    "%Convertir la imagen en binaria\n",
    "B=im2double(A);\n",
    "B(B<0.5)=0; B(B>=0.5)=1;\n",
    "imshow(B)\n",
    "\n",
    "%Calcular la discretizacion de theta y rho\n",
    "%1. Theta: Tomar valores en [0,180] / [0, pi]\n",
    "h1=1;\n",
    "thetas=deg2rad(0:h1:180);\n",
    "%2. Rho: Toma valores en [-d,d], donde d=sqrt(m^2+n^2), y [m,n]=size(B)\n",
    "[m,n]=size(B);\n",
    "d=sqrt(m^2+n^2);\n",
    "h2=1;\n",
    "rhos=-d:h2:d;\n",
    "\n",
    "%Crear matriz de acumulacion\n",
    "Acumulador=zeros(length(thetas),length(rhos));\n",
    "\n",
    "%Llenar la matriz de acumulacion\n",
    "\n",
    "[x_b,y_b]=find(B);\n",
    "\n",
    "for i=1:length(x_b) %Recorrer los puntos del borde\n",
    "  for theta_ind=1:length(thetas)\n",
    "    theta=thetas(theta_ind);\n",
    "    rho=x_b(i)*cos(theta)+y_b(i)*sin(theta);\n",
    "    [~,rho_ind]=min(abs(rhos-rho));\n",
    "    Acumulador(theta_ind,rho_ind)+=1;\n",
    "  end  \n",
    "end\n",
    "\n",
    "%Mostrar graficamente el comportamiento del acumulador\n",
    "%figure\n",
    "%surface(thetas,rhos,Acumulador','EdgeColor','none')\n",
    "%xlabel('rho')\n",
    "%ylabel('theta')\n",
    "\n",
    "%Encontrar la posicion donde el Acumulador alcanza el maxima\n",
    "[xp,yp]=find(Acumulador==max(max(Acumulador)));\n",
    "%Observacion: Si el maximo se repite mas de una vez, entonces\n",
    "%xp y yp son vectores que tienen las posiciones de esos valores\n",
    "\n",
    "y1 = 0;\n",
    "xn = 0;\n",
    "\n",
    "for k=1:length(xp)\n",
    "    \n",
    "     %Graficar\n",
    "     thetaMax = thetas(xp(k));\n",
    "     rhoMax = rhos(yp(k));\n",
    "     \n",
    "     if abs(sin(thetaMax)) < 10^-5 %Linea vertical\n",
    "          xv = rhoMax/cos(thetaMax);\n",
    "          line([n 1], [xv xv], \"LineWidth\",2)\n",
    "     else\n",
    "          pendiente = -cos(thetaMax)/sin(thetaMax);\n",
    "          interseccion = rhoMax/sin(thetaMax);\n",
    "          \n",
    "          %Para graficar una linea recta, se utiliza el comando line\n",
    "          %Necesitamos un dos puntos\n",
    "          %Punto1 (1,y1)\n",
    "          y1 = pendiente*1 + interseccion\n",
    "          %Punto2 (xn,n)\n",
    "          xn = (n-interseccion)/pendiente\n",
    "     end\n",
    "\n",
    "end\n",
    "\n",
    "\n",
    "\n",
    "%Graficar la linea rectangle\n",
    "line([y1 n], [1 xn], \"LineWidth\", 2)"
   ]
  },
  {
   "cell_type": "code",
   "execution_count": 3,
   "metadata": {
    "kernel": "Octave"
   },
   "outputs": [
    {
     "data": {
      "image/png": "[encoded data removed]",
      "text/plain": [
       "<IPython.core.display.Image object>"
      ]
     },
     "metadata": {},
     "output_type": "display_data"
    }
   ],
   "source": [
    "clc; clear; close all\n",
    "pkg load image\n",
    "A=imread('images/linea3.jpg');\n",
    "%Convertir la imagen en binaria\n",
    "B=im2double(A);\n",
    "B(B<0.5)=0; B(B>=0.5)=1;\n",
    "imshow(B)\n",
    "\n",
    "%Calcular la discretizacion de theta y rho\n",
    "%1. Theta: Tomar valores en [0,180] / [0, pi]\n",
    "h1=0.1;\n",
    "thetas=deg2rad(0:h1:180);\n",
    "%2. Rho: Toma valores en [-d,d], donde d=sqrt(m^2+n^2), y [m,n]=size(B)\n",
    "[m,n]=size(B);\n",
    "d=sqrt(m^2+n^2);\n",
    "h2=0.1;\n",
    "rhos=-d:h2:d;\n",
    "\n",
    "%Crear matriz de acumulacion\n",
    "Acumulador=zeros(length(thetas),length(rhos));\n",
    "\n",
    "%Llenar la matriz de acumulacion\n",
    "\n",
    "[x_b,y_b]=find(B);\n",
    "\n",
    "for i=1:length(x_b) %Recorrer los puntos del borde\n",
    "  for theta_ind=1:length(thetas)\n",
    "    theta=thetas(theta_ind);\n",
    "    rho=x_b(i)*cos(theta)+y_b(i)*sin(theta);\n",
    "    [~,rho_ind]=min(abs(rhos-rho));\n",
    "    Acumulador(theta_ind,rho_ind)+=1;\n",
    "  end  \n",
    "end\n",
    "\n",
    "%Mostrar graficamente el comportamiento del acumulador\n",
    "%figure\n",
    "%surface(thetas,rhos,Acumulador','EdgeColor','none')\n",
    "%xlabel('rho')\n",
    "%ylabel('theta')\n",
    "\n",
    "lineas_intentos=10;\n",
    "\n",
    "for r=1:lineas_intentos\n",
    "  %Encontrar maxima posicion del Acumulador\n",
    "  [xp,yp]=find(Acumulador==max(max(Acumulador)));\n",
    "  %Observacion: Si el maximo se repite mas de una vez, entonces \n",
    "  %             'x' y 'y' son vectores que tienen las posiciones\n",
    "\n",
    "  %Graficar\n",
    "\n",
    "  for k=1:length(xp)\n",
    "    thetaMax=thetas(xp(k));\n",
    "    rhoMax=rhos(yp(k));\n",
    "\n",
    "    if abs(sin(thetaMax))<10^-4\n",
    "      x_v=rhoMax/cos(thetaMax);\n",
    "      line([n 1], [x_v x_v],'LineWidth',2)  \n",
    "    else\n",
    "      %Calcular pendiente\n",
    "      pendiente=-cos(thetaMax)/sin(thetaMax);\n",
    "      interseccion=rhoMax/sin(thetaMax);\n",
    "      %Necesitamos el punto (1,y1)\n",
    "      y1=pendiente*1+interseccion;\n",
    "      %Necesitamos el punto (m,ym)\n",
    "      ym=pendiente*m+interseccion;\n",
    "      %Necesitamos el punto (x1,1)\n",
    "      x1=(1-interseccion)/pendiente;\n",
    "      %Necesitamos el punto (xn,n)\n",
    "      xn=(n-interseccion)/pendiente;\n",
    "      if pendiente>0\n",
    "        if 0<y1\n",
    "          line([y1 n], [1 xn],'LineWidth',2)  \n",
    "        else\n",
    "          line([1 ym], [x1 m],'LineWidth',2)  \n",
    "        end    \n",
    "      else\n",
    "        if y1>m\n",
    "          line([ym n], [m xn],'LineWidth',2)  \n",
    "        else\n",
    "          line([y1 1], [1 x1],'LineWidth',2)  \n",
    "        end    \n",
    "      end  \n",
    "    end\n",
    "    Acumulador(xp(k),yp(k))=0;\n",
    "  end\n",
    "end"
   ]
  },
  {
   "cell_type": "code",
   "execution_count": 1,
   "metadata": {
    "kernel": "Octave"
   },
   "outputs": [
    {
     "data": {
      "image/png": "[encoded data removed]",
      "text/plain": [
       "<IPython.core.display.Image object>"
      ]
     },
     "metadata": {},
     "output_type": "display_data"
    },
    {
     "data": {
      "image/png": "[encoded data removed]",
      "text/plain": [
       "<IPython.core.display.Image object>"
      ]
     },
     "metadata": {},
     "output_type": "display_data"
    }
   ],
   "source": [
    "clc; clear; close all\n",
    "pkg load image\n",
    "\n",
    "%Paso 0: Cargar Imagen\n",
    "A=imread('images/cuadro.jpg');\n",
    "A=imresize(A,floor(size(A)/4));\n",
    "imshow(A)\n",
    "title(\"Imagen original\")\n",
    "\n",
    "%Paso 1: Obtener una imagen binaria con los bordes de la imagen original\n",
    "A = im2double(A);\n",
    "%Operador de Sobel (Mascaras)\n",
    "Bx=[-1 0 1; -2 0 2; -1 0 1];\n",
    "By=[-1 -2 -1; 0 0 0; 1 2 1];\n",
    "%Realizar la convolucion\n",
    "Cx = conv2(A,Bx,'same');\n",
    "Cy = conv2(A,By,'same');\n",
    "C = sqrt(Cx.^2+Cy.^2);\n",
    "%Convertir a binario\n",
    "C(C<0.5) = 0;\n",
    "C(C>=0.5) = 1;\n",
    "figure\n",
    "imshow(C)\n",
    "title(\"Bordes (Sobel)\")\n",
    "\n",
    "B = C;\n",
    "\n",
    "%Calcular la discretizacion de theta y rho\n",
    "%1. Theta: Tomar valores en [0,180] / [0, pi]\n",
    "h1=1;\n",
    "thetas=deg2rad(0:h1:180);\n",
    "%2. Rho: Toma valores en [-d,d], donde d=sqrt(m^2+n^2), y [m,n]=size(B)\n",
    "[m,n]=size(B);\n",
    "d=sqrt(m^2+n^2);\n",
    "h2=1;\n",
    "rhos=-d:h2:d;\n",
    "\n",
    "%Crear matriz de acumulacion\n",
    "Acumulador=zeros(length(thetas),length(rhos));\n",
    "\n",
    "%Llenar la matriz de acumulacion\n",
    "\n",
    "[x_b,y_b]=find(B);\n",
    "\n",
    "for i=1:length(x_b) %Recorrer los puntos del borde\n",
    "  for theta_ind=1:length(thetas)\n",
    "    theta=thetas(theta_ind);\n",
    "    rho=x_b(i)*cos(theta)+y_b(i)*sin(theta);\n",
    "    [~,rho_ind]=min(abs(rhos-rho));\n",
    "    Acumulador(theta_ind,rho_ind)+=1;\n",
    "  end  \n",
    "end\n",
    "\n",
    "%Mostrar graficamente el comportamiento del acumulador\n",
    "%figure\n",
    "%surface(thetas,rhos,Acumulador','EdgeColor','none')\n",
    "%xlabel('rho')\n",
    "%ylabel('theta')\n",
    "\n",
    "lineas_intentos=20;\n",
    "\n",
    "for r=1:lineas_intentos\n",
    "  %Encontrar maxima posicion del Acumulador\n",
    "  [xp,yp]=find(Acumulador==max(max(Acumulador)));\n",
    "  %Observacion: Si el maximo se repite mas de una vez, entonces \n",
    "  %             'x' y 'y' son vectores que tienen las posiciones\n",
    "\n",
    "  %Graficar\n",
    "\n",
    "  for k=1:length(xp)\n",
    "    thetaMax=thetas(xp(k));\n",
    "    rhoMax=rhos(yp(k));\n",
    "\n",
    "    if abs(sin(thetaMax))<10^-4\n",
    "      x_v=rhoMax/cos(thetaMax);\n",
    "      line([n 1], [x_v x_v],'LineWidth',2)  \n",
    "    else\n",
    "      %Calcular pendiente\n",
    "      pendiente=-cos(thetaMax)/sin(thetaMax);\n",
    "      interseccion=rhoMax/sin(thetaMax);\n",
    "      %Necesitamos el punto (1,y1)\n",
    "      y1=pendiente*1+interseccion;\n",
    "      %Necesitamos el punto (m,ym)\n",
    "      ym=pendiente*m+interseccion;\n",
    "      %Necesitamos el punto (x1,1)\n",
    "      x1=(1-interseccion)/pendiente;\n",
    "      %Necesitamos el punto (xn,n)\n",
    "      xn=(n-interseccion)/pendiente;\n",
    "      if pendiente>0\n",
    "        if 0<y1\n",
    "          line([y1 n], [1 xn],'LineWidth',2)  \n",
    "        else\n",
    "          line([1 ym], [x1 m],'LineWidth',2)  \n",
    "        end    \n",
    "      else\n",
    "        if y1>m\n",
    "          line([ym n], [m xn],'LineWidth',2)  \n",
    "        else\n",
    "          line([y1 1], [1 x1],'LineWidth',2)  \n",
    "        end    \n",
    "      end  \n",
    "    end\n",
    "    Acumulador(xp(k),yp(k))=0;\n",
    "  end\n",
    "end"
   ]
  },
  {
   "cell_type": "code",
   "execution_count": null,
   "metadata": {
    "kernel": "Octave"
   },
   "outputs": [],
   "source": []
  }
 ],
 "metadata": {
  "kernelspec": {
   "display_name": "SoS",
   "language": "sos",
   "name": "sos"
  },
  "language_info": {
   "codemirror_mode": "sos",
   "file_extension": ".sos",
   "mimetype": "text/x-sos",
   "name": "sos",
   "nbconvert_exporter": "sos_notebook.converter.SoS_Exporter",
   "pygments_lexer": "sos"
  },
  "sos": {
   "kernels": [
    [
     "Octave",
     "octave",
     "octave",
     "",
     ""
    ],
    [
     "Python 3",
     "python3",
     "python3",
     "",
     {
      "name": "ipython",
      "version": 3
     }
    ]
   ],
   "panel": {
    "displayed": true,
    "height": 0
   },
   "version": "0.21.19"
  }
 },
 "nbformat": 4,
 "nbformat_minor": 4
}
