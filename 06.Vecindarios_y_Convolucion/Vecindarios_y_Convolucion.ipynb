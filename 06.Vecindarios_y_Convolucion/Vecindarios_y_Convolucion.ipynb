{
 "cells": [
  {
   "cell_type": "markdown",
   "metadata": {
    "kernel": "SoS"
   },
   "source": [
    "# Vecindarios y convolución\n",
    "\n",
    "Procesamiento de imágenes por vecindario significa modificar el valor de un pixel, utilizando la información de los pixeles vecinos.\n",
    "$$\n",
    "\\begin{array}{|c|c|c|} \n",
    "\\hline\n",
    "    A_{x-1,y-1} & A_{x,y-1} & A_{x+1,y-1}\\\\\n",
    "\\hline  \n",
    "    A_{x-1,y}   & \\color{red}{ A_{x,y}}   & A_{x+1,y}\\\\ \n",
    "\\hline \n",
    "    A_{x-1,y+1} & A_{x,y+1} & A_{x+1,y+1}\\\\ \n",
    "\\hline \n",
    "\\end{array} \n",
    "$$\n",
    "Las operaciones que se realizan para un procesamiento por vecindario, normalmente siguen los siguientes pasos: Sea $A \\in {\\rm I\\!R}^{m\\times n}$ una imgen a escala de grises.\n",
    "\n",
    "1. Definir un pixel de la imagen: $A_{x,y}$\n",
    "1. Desarrollar una operación que involucra solo los pixeles del vecindario: $\\color{red}{A_{x-1, y}, A_{x, y-1}, ...}$\n",
    "1. Aplicar el resultado de la operación del pixel en la misma coordenada $(x,y)$ de la imagen de salida. $B_{x,y}$\n",
    "1. Repetir el proceso con cada uno de los pixeles.\n",
    "\n",
    "*Nota:* En esta parte del curso, se estudiarán un conjunto de mpetodos relacionados con el procesamiento por vecindarios, que involucra las operaciones de **convolución**\n",
    "\n",
    "## Convolución en 1 dimensión para vectores de dimensión finita:\n",
    "\n",
    "Sea $X = [x_1, x_2, ..., x_n]$ y sesa $y = [y_1, y_2, ... , y_n]$\n",
    "\n",
    "Entonces la convolución de $X$ y $Y$ es el vector $Z$ de tamaño $m+n-1$, definido:\n",
    "$$\n",
    "Z(i) = (x\\star y)(i) = \\sum _j x(j)\\cdot y(i-j+1)\n",
    "$$\n",
    "donde $j \\in \\{\\max(1, i+1-n), ... ,\\min(i, n)\\}$\n",
    "\n",
    "**Ejercicio:** Implementar la convolución entre\n",
    "$$\n",
    "\\begin{array}{cc} \n",
    "X = \\left(\n",
    "    \\begin{array}{c} \n",
    "        -2\\\\1\\\\2\n",
    "    \\end{array} \n",
    "\\right)\n",
    "& \n",
    "Y = \\left(\n",
    "    \\begin{array}{c} \n",
    "        -4\\\\3\\\\4\n",
    "    \\end{array} \n",
    "\\right) \n",
    "\\end{array} \n",
    "$$"
   ]
  },
  {
   "cell_type": "markdown",
   "metadata": {
    "kernel": "SoS"
   },
   "source": [
    "## Código en octave"
   ]
  },
  {
   "cell_type": "code",
   "execution_count": 92,
   "metadata": {
    "kernel": "Octave"
   },
   "outputs": [
    {
     "name": "stdout",
     "output_type": "stream",
     "text": [
      "    8  -10  -13   10    8\n"
     ]
    }
   ],
   "source": [
    "% Ejemplo de convolución en una dimensión\n",
    "\n",
    "x = [-2 1 2]; m = length(x);\n",
    "y = [-4 3 4]; n = length(y);\n",
    "\n",
    "z = zeros(m+n-1, 1); %Vector de convolución\n",
    "\n",
    "for i=1 : m+n-1 %Recorrer cada una de las entradas de Z\n",
    "    for j=max([1 i+1-n]) : min([i m]) %Realizar la suma de la formula de convolucion\n",
    "        z(i) = z(i) + x(j) * y(i-j+1);\n",
    "    end\n",
    "end\n",
    "\n",
    "disp(z');"
   ]
  },
  {
   "cell_type": "code",
   "execution_count": 64,
   "metadata": {
    "kernel": "Octave"
   },
   "outputs": [
    {
     "name": "stdout",
     "output_type": "stream",
     "text": [
      "error: horizontal dimensions mismatch (1x1 vs 349x1)\n",
      "t1 =  0.21500\n",
      "t2 =  0.061840\n"
     ]
    }
   ],
   "source": [
    "%Ejemplo de Convolucion en 1D\n",
    "\n",
    "x = rand(250,1); m = length(x);\n",
    "y = rand(100,1); n = length(y);\n",
    "\n",
    "z = zeros(m+n-1, 1); %Vector de convlucion\n",
    "tic\n",
    "for i=1 : m+n-1 %Recorrer cada una de las entradas de Z\n",
    "    for j=max([1 i+z-n]) : min([i m]) %Realizar la suma de la formula de convolucion\n",
    "        z(i) = z(i) + x(j) * y(i-j+1)\n",
    "    end\n",
    "end\n",
    "t1 = toc\n",
    "\n",
    "tic\n",
    "z2 = conv(x,y);\n",
    "t2 = toc"
   ]
  },
  {
   "cell_type": "markdown",
   "metadata": {
    "kernel": "Octave"
   },
   "source": [
    "## Código en Python"
   ]
  },
  {
   "cell_type": "code",
   "execution_count": 127,
   "metadata": {
    "kernel": "Python 3"
   },
   "outputs": [
    {
     "name": "stdout",
     "output_type": "stream",
     "text": [
      "[  8. -10. -13.  10.   8.]\n"
     ]
    }
   ],
   "source": [
    "# Ejemplo de convolución en una dimensión\n",
    "import numpy as np\n",
    "x = [-2, 1, 2]\n",
    "m = len(x)\n",
    "y = [-4, 3, 4]\n",
    "n = len(y)\n",
    "\n",
    "z = np.zeros(m+n-1); #Vector de convolución\n",
    "tam = m+n-1\n",
    "for i in range(1,tam+1): # Recorrer cada una de las entradas de Z\n",
    "    _max = np.max(np.array([1, i+1-n]))\n",
    "    _min = np.min(np.array([i,n]))\n",
    "    for j in range(_max, _min+1): # Realizar la suma de la formula de convolucion\n",
    "        z[i-1] = z[i-1] + x[j-1] * y[i-j];\n",
    "\n",
    "print(z);\n"
   ]
  },
  {
   "cell_type": "code",
   "execution_count": 17,
   "metadata": {
    "kernel": "Python 3"
   },
   "outputs": [
    {
     "name": "stdout",
     "output_type": "stream",
     "text": [
      "199\n",
      "toc =  0.01591968536376953\n",
      "toc =  0.0\n",
      "[  18.   87.   82.  140.  144.  176.  211.  256.  232.  236.  332.  289.\n",
      "  280.  306.  340.  384.  454.  449.  429.  410.  505.  524.  505.  621.\n",
      "  655.  618.  738.  670.  746.  802.  870.  883.  822.  928.  933.  915.\n",
      "  957.  968. 1010. 1140.  975. 1025. 1089. 1104. 1236. 1096. 1206. 1173.\n",
      " 1129. 1349. 1108. 1302. 1269. 1274. 1443. 1169. 1368. 1377. 1419. 1469.\n",
      " 1440. 1404. 1450. 1348. 1490. 1298. 1388. 1591. 1389. 1605. 1514. 1574.\n",
      " 1644. 1624. 1865. 1658. 1786. 1925. 1795. 1965. 1847. 1875. 2047. 1967.\n",
      " 2095. 1986. 2049. 2172. 2125. 2254. 2081. 2119. 2499. 2123. 2393. 2190.\n",
      " 2198. 2475. 2480. 2550. 2598. 2310. 2513. 2333. 2510. 2425. 2347. 2367.\n",
      " 2195. 2241. 2274. 2068. 2374. 2263. 2319. 2195. 1986. 2045. 2071. 2257.\n",
      " 2221. 1992. 2005. 1765. 1962. 1858. 1787. 1797. 1890. 1716. 1689. 1466.\n",
      " 1647. 1509. 1616. 1622. 1473. 1449. 1417. 1322. 1444. 1273. 1399. 1381.\n",
      " 1500. 1423. 1347. 1253. 1278. 1280. 1310. 1306. 1341. 1205. 1208. 1141.\n",
      " 1088. 1044. 1166. 1200. 1184.  989.  979.  991. 1064. 1071. 1112.  982.\n",
      " 1012.  938.  939.  906.  943.  923.  948.  822.  796.  712.  645.  624.\n",
      "  674.  656.  618.  473.  492.  463.  442.  404.  393.  404.  340.  259.\n",
      "  227.  206.  220.  177.  166.   96.   56.]\n",
      "[  18.   87.   82.  140.  144.  176.  211.  256.  232.  236.  332.  289.\n",
      "  280.  306.  340.  384.  454.  449.  429.  410.  505.  524.  505.  621.\n",
      "  655.  618.  738.  670.  746.  802.  870.  883.  822.  928.  933.  915.\n",
      "  957.  968. 1010. 1140.  975. 1025. 1089. 1104. 1236. 1096. 1206. 1173.\n",
      " 1129. 1349. 1108. 1302. 1269. 1274. 1443. 1169. 1368. 1377. 1419. 1469.\n",
      " 1440. 1404. 1450. 1348. 1490. 1298. 1388. 1591. 1389. 1605. 1514. 1574.\n",
      " 1644. 1624. 1865. 1658. 1786. 1925. 1795. 1965. 1847. 1875. 2047. 1967.\n",
      " 2095. 1986. 2049. 2172. 2125. 2254. 2081. 2119. 2499. 2123. 2393. 2190.\n",
      " 2198. 2475. 2480. 2550. 2598. 2310. 2513. 2333. 2510. 2425. 2347. 2367.\n",
      " 2195. 2241. 2274. 2068. 2374. 2263. 2319. 2195. 1986. 2045. 2071. 2257.\n",
      " 2221. 1992. 2005. 1765. 1962. 1858. 1787. 1797. 1890. 1716. 1689. 1466.\n",
      " 1647. 1509. 1616. 1622. 1473. 1449. 1417. 1322. 1444. 1273. 1399. 1381.\n",
      " 1500. 1423. 1347. 1253. 1278. 1280. 1310. 1306. 1341. 1205. 1208. 1141.\n",
      " 1088. 1044. 1166. 1200. 1184.  989.  979.  991. 1064. 1071. 1112.  982.\n",
      " 1012.  938.  939.  906.  943.  923.  948.  822.  796.  712.  645.  624.\n",
      "  674.  656.  618.  473.  492.  463.  442.  404.  393.  404.  340.  259.\n",
      "  227.  206.  220.  177.  166.   96.   56.]\n"
     ]
    }
   ],
   "source": [
    "# Ejemplo de convolución en una dimensión\n",
    "import numpy as np\n",
    "from numpy.random import rand\n",
    "import time\n",
    "from scipy.signal import convolve as conv\n",
    "\n",
    "x = np.round(rand(100)*10)\n",
    "m = len(x)\n",
    "y = np.round(rand(100)*10)\n",
    "n = len(y)\n",
    "\n",
    "tam = m+n-1\n",
    "print(tam)\n",
    "z = np.zeros(tam); #Vector de convolución\n",
    "tic = time.time()\n",
    "for i in range(1,tam+1): # Recorrer cada una de las entradas de Z\n",
    "    _max = np.max(np.array([1, i+1-n]))\n",
    "    _min = np.min(np.array([i,n]))\n",
    "    for j in range(_max, _min+1): # Realizar la suma de la formula de convolucion\n",
    "        z[i-1] = z[i-1] + x[j-1] * y[i-j];\n",
    "print(\"toc = \", time.time() - tic)\n",
    "\n",
    "tic2 = time.time()\n",
    "z2 = conv(x, y)\n",
    "print(\"toc = \", time.time() - tic2)\n",
    "\n",
    "print(z)\n",
    "print(z2)"
   ]
  },
  {
   "cell_type": "markdown",
   "metadata": {
    "kernel": "Octave"
   },
   "source": [
    "## Convolución de 2 dimensiones (para matrices) de dimensión finita\n",
    "\n",
    "Sea $A \\in {\\rm I\\!R}^{m_1 \\times n_1}$ y $B \\in {\\rm I\\!R}^{m_2 \\times n_2}$. La convolución de $A$ y $B$ esla matriz $C \\in {\\rm I\\!R}^{m_1 + m_2 - 1 \\times n_1 + n_2 +1}$, definida por:\n",
    "\n",
    "$$\n",
    "    C(j,k) = (A \\star B)(j,k) = \\sum _ p \\sum _q A(p,q)\\cdot B(j-p+1, k-q+1)\n",
    "$$\n",
    "donde $p$ y $q$ pertenecen a:\n",
    "$$\n",
    "\\begin{array}{c}\n",
    "p \\in \\{\\max(1, j-m_2+1), ..., \\min(j, m_1) \\}\\\\\n",
    "q \\in \\{\\max(1, k-n_2+1), ..., \\min(k, n_1) \\}\n",
    "\\end{array}\n",
    "$$\n",
    "\n",
    "**Tarea:** Implementar la convolución de:\n",
    "\n",
    "$$\n",
    "\\begin{array}{cc} \n",
    "A = \\left(\n",
    "    \\begin{array}{c} \n",
    "        1 & 0 & 1\\\\\n",
    "        4 & 3 & 1\\\\\n",
    "        -1& 0 & -2\n",
    "    \\end{array} \n",
    "\\right)\n",
    "& y &\n",
    "B = \\left(\n",
    "    \\begin{array}{c} \n",
    "        -1 &1 &2 &3\\\\\n",
    "        -4 &0 &1 &5\n",
    "    \\end{array} \n",
    "\\right) \n",
    "\\end{array} \n",
    "$$\n",
    "\n",
    "*Nota:* Durante lo que queda del curso, usaremos los comandos ya desarrolladosen Octave y Python, para calcular la convolución de 2 dimensiones.\n",
    "\n",
    "Python $\\rightarrow$ convolve2d (scipy)\n",
    "\n",
    "Octave $\\rightarrow$ conv2"
   ]
  }
 ],
 "metadata": {
  "kernelspec": {
   "display_name": "SoS",
   "language": "sos",
   "name": "sos"
  },
  "language_info": {
   "codemirror_mode": "sos",
   "file_extension": ".sos",
   "mimetype": "text/x-sos",
   "name": "sos",
   "nbconvert_exporter": "sos_notebook.converter.SoS_Exporter",
   "pygments_lexer": "sos"
  },
  "sos": {
   "kernels": [
    [
     "Octave",
     "octave",
     "octave",
     "",
     ""
    ],
    [
     "Python 3",
     "python3",
     "python3",
     "",
     {
      "name": "ipython",
      "version": 3
     }
    ]
   ],
   "panel": {
    "displayed": true,
    "height": 0
   },
   "version": "0.21.19"
  }
 },
 "nbformat": 4,
 "nbformat_minor": 4
}
