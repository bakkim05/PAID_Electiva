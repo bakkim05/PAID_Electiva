{
 "cells": [
  {
   "cell_type": "markdown",
   "metadata": {
    "kernel": "SoS"
   },
   "source": [
    "# Procesamiento de imagenes morfológicas\n",
    "La morfología matemática es el área del procesamiento de imagágenes que se usa para representar, describir, y analizar formas en imagénes.\n",
    "\n",
    "El principio básico de la morfoología matemática es obtener/extraer información geométrica o topoloógica de una imágen, a traves de transformaciones, utilizando elementos estructurales.\n",
    "\n",
    "Para eso, trabajaremos con imagenes binarias, es decir, toma valores de: 0,1 (normalizado), 0,255 (8-bit)\n",
    "\n",
    "    Los valores pueden no ser exactamente 0 ó 1, debido a la compresión\n",
    "    \n"
   ]
  },
  {
   "cell_type": "code",
   "execution_count": 28,
   "metadata": {
    "kernel": "Octave"
   },
   "outputs": [],
   "source": [
    "clc;clear;\n",
    "function Y = binaria(X)\n",
    "    Y = zeros(size(X));\n",
    "    ind_blanco = (X>= 0.5);\n",
    "    %ind_negro = (X < 0.5); % No hace falta\n",
    "    Y(ind_blanco) = 1;\n",
    "    %Y(ind_negro) = 0; %=> No hace falta, ya que la matriz original es una matriz de ceros\n",
    "endfunction"
   ]
  },
  {
   "cell_type": "code",
   "execution_count": 29,
   "metadata": {
    "kernel": "Octave"
   },
   "outputs": [
    {
     "data": {
      "image/png": "[encoded data removed]",
      "text/plain": [
       "<IPython.core.display.Image object>"
      ]
     },
     "metadata": {},
     "output_type": "display_data"
    }
   ],
   "source": [
    "pkg load image\n",
    "A = imread('Images/imagen2.jpg');\n",
    "subplot(1,2,1);\n",
    "imshow(A);\n",
    "title(\"Imagen que aparenta ser binaria\")\n",
    "\n",
    "subplot(1,2,2);\n",
    "A = im2double(A);\n",
    "B =binaria(A);\n",
    "imshow(B);\n",
    "title(\"Imagen binaria\")"
   ]
  },
  {
   "cell_type": "markdown",
   "metadata": {
    "kernel": "Octave"
   },
   "source": [
    "## Conceptos fundamentales\n",
    "Sea $A$ una imagen binaria, Sea $z = (x,y) \\in A$, donde $(x,y)$ representa la posicion de un pixel en la imagen A\n",
    "\n",
    "### Operaciones\n",
    "1. **Complemento de $A$**: $A^c=\\{(x,y)/(x,y) \\not\\in A\\}$\n",
    "1. **Unión de $A$ y $B$:** $A\\cup B = \\{(x,y)/(x,y) \\in A \\vee  (x,y) \\in B\\}$\n",
    "1. **Intersección de $A$ y $B$:** $A\\cap B = \\{(x,y)/(x,y) \\in A \\wedge  (x,y) \\in B\\}$\n",
    "1. **Diferencia de $A$ y $B$:** $A-B = \\{ (x,y)/(x,y) \\in A \\wedge (x,y) \\not \\in B \\}$\n",
    "1. **Traslación de A por un punto $w=(\\bar x, \\bar y)$:**$A_w = \\{ c= (x,y)/c=z+w, z\\in A \\}$\n",
    "1. **Reflexión:** Es el conjunto relacionado al origen de un sistema de coorddenadas y se define como: $\\hat A = \\{ z=(x,y)/z=-a, a\\in A \\}$\n",
    "\n",
    "#### ¿Cómo hacer las operaciones anteriores en Octave?\n",
    "\n",
    "|**Operación**|**GNU Octave**|\n",
    "|-|-|\n",
    "|$A\\cap B$|A & B|\n",
    "|$A\\cup B$|A \\| B|\n",
    "|$A^c$ | ~A|\n",
    "|$A - B$|A &~ B|"
   ]
  },
  {
   "cell_type": "code",
   "execution_count": 33,
   "metadata": {
    "kernel": "Octave",
    "scrolled": true
   },
   "outputs": [
    {
     "data": {
      "image/png": "[encoded data removed]",
      "text/plain": [
       "<IPython.core.display.Image object>"
      ]
     },
     "metadata": {},
     "output_type": "display_data"
    }
   ],
   "source": [
    "pkg load image\n",
    "A = imread('Images/imagen2.jpg');\n",
    "subplot(2,3,1);\n",
    "A = im2double(A);\n",
    "A =binaria(A);\n",
    "imshow(A);\n",
    "title('Imagen A')\n",
    "\n",
    "B = imread('Images/imagen3.jpg');\n",
    "subplot(2,3,2);\n",
    "B = im2double(B);\n",
    "B =binaria(B);\n",
    "imshow(B);\n",
    "title('Imagen B')\n",
    "\n",
    "% Intersección\n",
    "O1 = A&B;\n",
    "subplot(2,3,3);\n",
    "imshow(O1);\n",
    "title('A \\cap B')\n",
    "\n",
    "% Union\n",
    "O2 = A|B;\n",
    "subplot(2,3,4);\n",
    "imshow(O2);\n",
    "title('A \\cup B')\n",
    "\n",
    "% Complemento\n",
    "O3 = ~A;\n",
    "subplot(2,3,5);\n",
    "imshow(O3);\n",
    "title('A^c')\n",
    "\n",
    "% Diferencia\n",
    "O4 = A&~B;\n",
    "subplot(2,3,6);\n",
    "imshow(O4);\n",
    "title('A - B')"
   ]
  },
  {
   "cell_type": "markdown",
   "metadata": {
    "kernel": "Octave"
   },
   "source": [
    "## Operación de Dilatación\n",
    "Es una operación que hace crecer o engrosar un objeto en una imagen.\n",
    "\n",
    "Matemáticamente, la dilatación de A y B se denota $A\\oplus B$ y se defina como el conjunto \n",
    "$$A \\oplus B= \\{ z=(x,y)/(\\hat B)_z \\cap A \\not = \\not O \\}$$\n",
    "\n",
    "donde B es una matriz simétrica.\n",
    "\n",
    "Para definir esta operación de una menera más intuitiva, definiremos el centro de una imagen.\n",
    "\n",
    "* **Origen o centro:** Sea $B \\in {\\rm I\\!R}^{m\\times n}$, entonces el centro/origen de B se define como el par ordenado\n",
    "$$ (\\bar x, \\bar y) = \\left( \\left[\\frac{m+1}{2}\\right], \\left[\\frac{n+1}{2}\\right] \\right) $$\n",
    "donde $[w]$ es truncar el valor de $w$.\n",
    "\n",
    "**Ejemplo:** Sea $B \\in {\\rm I\\!R}^{2\\times 2}$, entonces\n",
    "$$ (\\bar x, \\bar y) = \\left( \\left[\\frac{2+1}{2}\\right], \\left[\\frac{2+1}{2}\\right] \\right) = ([1.5], [1.5]) = (1,1)$$\n",
    "\n",
    "El proceso de dilatación se puede obtener de la siguiente forma:\n",
    "\n",
    "Para cada pixel en $A$, que tenga el valor de 1, se superpone la matriz $B$ en el centro y todos los pixeles que abarque la matriz $B$ toman el valor de 1.\n",
    "\n",
    "**Ejm: Considere las matrices:**\n",
    "$$A = \\left( \\right)$$"
   ]
  }
 ],
 "metadata": {
  "kernelspec": {
   "display_name": "SoS",
   "language": "sos",
   "name": "sos"
  },
  "language_info": {
   "codemirror_mode": "sos",
   "file_extension": ".sos",
   "mimetype": "text/x-sos",
   "name": "sos",
   "nbconvert_exporter": "sos_notebook.converter.SoS_Exporter",
   "pygments_lexer": "sos"
  },
  "sos": {
   "kernels": [
    [
     "Octave",
     "octave",
     "octave",
     "",
     ""
    ]
   ],
   "panel": {
    "displayed": true,
    "height": 0
   },
   "version": "0.21.21"
  }
 },
 "nbformat": 4,
 "nbformat_minor": 4
}
